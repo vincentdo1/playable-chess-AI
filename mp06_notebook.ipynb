{
 "cells": [
  {
   "attachments": {},
   "cell_type": "markdown",
   "metadata": {},
   "source": [
    "<p align=\"center\">\n",
    "    <img width=\"400\" src=\"images/assignment5_splash.png\"/> \n",
    "</p>\n"
   ]
  },
  {
   "cell_type": "markdown",
   "metadata": {},
   "source": [
    "# CS440/ECE448 Spring 2023\n",
    "# MP06: Two-Player Games"
   ]
  },
  {
   "cell_type": "markdown",
   "metadata": {},
   "source": [
    "The first thing you need to do is to download this file: <a href=\"mp06.zip\">mp06.zip</a>.  It has the following content:\n",
    "\n",
    "* `main.py`. This file plays the game (python3 main.py).\n",
    "* `submitted.py`: Your homework. Edit, and then submit to <a href=\"https://www.gradescope.com/courses/486387\">Gradescope</a>.\n",
    "* `mp06_notebook.ipynb`: This is a <a href=\"https://anaconda.org/anaconda/jupyter\">Jupyter</a> notebook to help you debug.  You can completely ignore it if you want, although you might find that it gives you useful instructions.\n",
    "* `grade.py`: Once your homework seems to be working, you can test it by typing `python grade.py`, which will run the tests in `tests/tests_visible.py`.\n",
    "* `tests/test_visible.py`: This file contains about half of the <a href=\"https://docs.python.org/3/library/unittest.html\">unit tests</a> that Gradescope will run in order to grade your homework.  If you can get a perfect score on these tests, then you should also get a perfect score on the additional hidden tests that Gradescope uses.\n",
    "* `grading_examples/`. This directory contains the JSON answer keys on which your grade is based (the visible ones). You are strongly encouraged to read these, to see what format your code should produce.\n",
    "* `chess/`, `res/`, `tools/`. These directories contain code and resources from PyChess that are necessary to run the assignment. \n",
    "* `requirements.txt`: This tells you which python packages you need to have installed, in order to run `grade.py`.  You can install all of those packages by typing `pip install -r requirements.txt` or `pip3 install -r requirements.txt`."
   ]
  },
  {
   "cell_type": "markdown",
   "metadata": {},
   "source": [
    "This file (`mp06_notebook.ipynb`) will walk you through the whole MP, giving you instructions and debugging tips as you go.\n",
    "\n",
    "### Table of Contents\n",
    "\n",
    "1. <a href=\"#section1\">Getting Started</a>\n",
    "1. <a href=\"#section2\">the PyChess API</a>\n",
    "1. <a href=\"#section3\">Assignment</a>\n",
    "1. <a href=\"#section4\">Extra Credit</a>\n",
    "1. <a href=\"#section5\">Submitted to Gradescope</a>\n"
   ]
  },
  {
   "cell_type": "markdown",
   "metadata": {},
   "source": [
    "<a id='section1'></a>"
   ]
  },
  {
   "cell_type": "markdown",
   "metadata": {},
   "source": [
    "## I. Getting Started"
   ]
  },
  {
   "cell_type": "markdown",
   "metadata": {},
   "source": [
    "The `main.py` file will be the primary entry point for this assignment. Let’s start by running it as follows:\n"
   ]
  },
  {
   "cell_type": "code",
   "execution_count": 49,
   "metadata": {},
   "outputs": [
    {
     "name": "stdout",
     "output_type": "stream",
     "text": [
      "pygame 2.1.3 (SDL 2.0.22, Python 3.9.13)\n",
      "Hello from the pygame community. https://www.pygame.org/contribute.html\n",
      "usage: main.py [-h] [--player0 {random,human,minimax,alphabeta,stochastic}]\n",
      "               [--player1 {random,human,minimax,alphabeta,stochastic}]\n",
      "               [--depth0 DEPTH0] [--depth1 DEPTH1] [--breadth0 BREADTH0]\n",
      "               [--breadth1 BREADTH1] [--loadgame LOADGAME]\n",
      "\n",
      "CS440 MP5 Chess\n",
      "\n",
      "optional arguments:\n",
      "  -h, --help            show this help message and exit\n",
      "  --player0 {random,human,minimax,alphabeta,stochastic}\n",
      "                        Is player 0 a human, a random player, or some type of\n",
      "                        AI? (default: human)\n",
      "  --player1 {random,human,minimax,alphabeta,stochastic}\n",
      "                        Is player 1 a human, a random player, or some type of\n",
      "                        AI? (default: random)\n",
      "  --depth0 DEPTH0       Depth to which player 0 should search, if player 0 is\n",
      "                        an AI. (default: 2)\n",
      "  --depth1 DEPTH1       Depth to which player 1 should search, if player 1 is\n",
      "                        an AI. (default: 2)\n",
      "  --breadth0 BREADTH0   Breadth to which player 0 should search, if player 0\n",
      "                        is stochastic. (default: 2)\n",
      "  --breadth1 BREADTH1   Breadth to which player 1 should search, if player 1\n",
      "                        is stochastic. (default: 2)\n",
      "  --loadgame LOADGAME   Load a saved game from res/savedGames (default: None)\n"
     ]
    }
   ],
   "source": [
    "!python3 main.py --help\n"
   ]
  },
  {
   "cell_type": "markdown",
   "metadata": {},
   "source": [
    "This will list the available options.  You will see that both player0  and player1 can  be human, or one of four types  of AI: random, minimax, alphabeta, or stochastic. The default is `--player0 human --player1 random`, because the random player is the only one already implemented.  In order to play against an \"AI\" that makes moves at random, type\n"
   ]
  },
  {
   "cell_type": "code",
   "execution_count": 50,
   "metadata": {},
   "outputs": [
    {
     "name": "stdout",
     "output_type": "stream",
     "text": [
      "pygame 2.1.3 (SDL 2.0.22, Python 3.9.13)\n",
      "Hello from the pygame community. https://www.pygame.org/contribute.html\n"
     ]
    }
   ],
   "source": [
    "!python3 main.py\n"
   ]
  },
  {
   "cell_type": "markdown",
   "metadata": {},
   "source": [
    "You should see a chess board pop up.  When you click on any white piece (you may need to double-click), you should see bright neon green dots centered in all of the squares to which that piece can legally move, like this:\n",
    "\n",
    "<p align=\"center\">\n",
    "    <img width=\"400\" src=\"images/assignment5_human.png\"/> \n",
    "</p>\n",
    "\n",
    "When you click (or double-click) on one of those green dots, your piece will move there.  Then the computer will move one of the black pieces, and it will be your turn again.\n",
    "\n",
    "If you have trouble using the mouse to play, you can debug your code by watching the computer play against itself.  For example,\n",
    "```bash\n",
    "python3 main.py --player0 random --player1 random\n",
    "```\n",
    "\n",
    "If you want to start from one of the stored game positions, you can load them as, for example:\n",
    "```bash\n",
    "python3 main.py --loadgame game1.txt\n",
    "```\n",
    "\n",
    "We will grade your submissions using `grade.py`. This file is available to you, so that you can understand how this assignment will be graded.\n",
    "\n",
    "Let’s see what happens when we run this script:\n"
   ]
  },
  {
   "cell_type": "code",
   "execution_count": 53,
   "metadata": {},
   "outputs": [
    {
     "name": "stderr",
     "output_type": "stream",
     "text": [
      ".......\n",
      "----------------------------------------------------------------------\n",
      "Ran 7 tests in 3.943s\n",
      "\n",
      "OK\n"
     ]
    }
   ],
   "source": [
    "!python3 grade.py"
   ]
  },
  {
   "cell_type": "markdown",
   "metadata": {},
   "source": [
    "As you can see, all of the tests raise `NotImplementedError`, because we have not yet implemented the functions `minimax` or `alphabeta` in `submitted.py`. We will do this in the next few sections."
   ]
  },
  {
   "cell_type": "markdown",
   "metadata": {},
   "source": [
    "<a id='section2'></a>"
   ]
  },
  {
   "cell_type": "markdown",
   "metadata": {},
   "source": [
    "## II. the PyChess API"
   ]
  },
  {
   "cell_type": "markdown",
   "metadata": {},
   "source": [
    "The chess-playing interface that we're using is based on [**PyChess**](https://github.com/pychess/pychess).  All the components of PyChess that you need are included in the assignment5.zip file, but if you want to learn more about PyChess, you are welcome to download and install it.  The standard distribution of PyChess includes a game-playing AI using the alphabeta search algorithm.  You are welcome to read their implementation to get hints for how to write your own, but note that we have changed the function signature so that if you simply cut and paste their code into your own, it will not work.\n",
    "\n",
    "You do not need to know how to play chess in order to do this assignment.  You need to know that chess is a game between two players, one with white pieces, one with black pieces.  White goes first.  Players alternate making moves until white wins, black wins, or there is a tie.  You don't need to know anything else about chess to do the assignment, though you may have more fun if you learn just a little (e.g., by playing against the computer).\n",
    "\n",
    "Though you don't need to know anything about chess, you do need to understand a few key concepts, and a few key functions, from the PyChess API.  The most important concepts are:\n",
    "\n",
    "1. **player**.  There are two players: Player 0, and Player 1.\n",
    "Player 0 plays white pieces, Player 1 black. Player 0 goes first.\n",
    "    - **side**. PyChess keeps track of whose turn it is by using a boolean called **side**:\n",
    "    `side==False` if Player 0 should play next.\n",
    "2. **move**.  A move is a 3-list: `move==[fro,to,promote]`.\n",
    "`fro` is a 2-list: `fro==[from_x,from_y]`, where `from_x` and `from_y` are each numbers between 1 and 8, specifying the starting x and y positions.  `to` is also a 2-list: `to==[to_x,to_y]`.\n",
    "`promote` is either `None` or `\"q\"`, where `q` means that you are trying to promote your piece to a queen.\n",
    "3. **board**.  A board is a 2-tuple of lists of pieces: `board==([white_piece0, white_piece1, ...], [black_piece0, black_piece1, ...])`.\n",
    "Each piece is a 3-list: `piece=[x,y,type]`.\n",
    "`x` is the x position of the piece (left-to-right, 1 to 8).\n",
    "`y` is the y  position of the piece (top-to-bottom, 1 to 8).\n",
    "`type` is a letter indicating the type of piece, which can be (`p`=pawn, `r`=rook, `n`=knight, `b`=bishop, `q`=queen, or `k`=king).  \n",
    "\n",
    "To get some better understanding, let's look at the way the board is initialized at the start of the game.  The function `chess.lib.convertMoves` starts with an initialized board, then runs forward through a series of specified moves, and gives us the resulting board.  If the series of specified moves is the empty string, then `chess.lib.convertMoves` gives us the opening board position:\n"
   ]
  },
  {
   "cell_type": "code",
   "execution_count": 55,
   "metadata": {},
   "outputs": [
    {
     "name": "stdout",
     "output_type": "stream",
     "text": [
      "Should we start with the White player? False\n",
      "\n",
      "The starting board position is:\n",
      "[[[1, 7, 'p'], [2, 7, 'p'], [3, 7, 'p'],\n",
      "  [4, 7, 'p'], [5, 7, 'p'], [6, 7, 'p'],\n",
      "  [7, 7, 'p'], [8, 7, 'p'], [1, 8, 'r'],\n",
      "  [2, 8, 'n'], [3, 8, 'b'], [4, 8, 'q'],\n",
      "  [5, 8, 'k'], [6, 8, 'b'], [7, 8, 'n'],\n",
      "  [8, 8, 'r']],\n",
      " [[1, 2, 'p'], [2, 2, 'p'], [3, 2, 'p'],\n",
      "  [4, 2, 'p'], [5, 2, 'p'], [6, 2, 'p'],\n",
      "  [7, 2, 'p'], [8, 2, 'p'], [1, 1, 'r'],\n",
      "  [2, 1, 'n'], [3, 1, 'b'], [4, 1, 'q'],\n",
      "  [5, 1, 'k'], [6, 1, 'b'], [7, 1, 'n'],\n",
      "  [8, 1, 'r']]]\n"
     ]
    }
   ],
   "source": [
    "import mychess.lib.utils, pprint\n",
    "\n",
    "side, board, flags = mychess.lib.convertMoves(\"\")\n",
    "\n",
    "print(\"Should we start with the White player?\", side)\n",
    "\n",
    "print(\"\")\n",
    "\n",
    "print(\"The starting board position is:\")\n",
    "\n",
    "pprint.PrettyPrinter(compact=True,width=40).pprint(board)\n"
   ]
  },
  {
   "cell_type": "markdown",
   "metadata": {},
   "source": [
    "### II.A evaluate\n",
    "\n",
    "The function `value=evaluate(board)` returns the heuristic value of the board for the white player (thus, in the textbook's terminology, the white player is Max, the black player is Min).\n",
    "\n",
    "For example, you can find the numerical value of a board by typing:\n",
    "\n",
    "\n"
   ]
  },
  {
   "cell_type": "code",
   "execution_count": 56,
   "metadata": {},
   "outputs": [
    {
     "name": "stdout",
     "output_type": "stream",
     "text": [
      "The value of the default board is 0.0\n",
      "If we eliminate one of black's rooks, the value is  14.0\n",
      "If we eliminate one of white's rooks, the value is  -14.0\n",
      "If the players are each missing a rook, the value is  0.0\n"
     ]
    }
   ],
   "source": [
    "import mychess.lib.heuristics\n",
    "\n",
    "# Try the default board\n",
    "value = mychess.lib.heuristics.evaluate(board)\n",
    "print(\"The value of the default board is\",value)\n",
    "\n",
    "# Try a board where Black is missing a rook\n",
    "board2 = [ board[0], board[1][:-1] ]\n",
    "value = mychess.lib.heuristics.evaluate(board2)\n",
    "print(\"If we eliminate one of black's rooks, the value is \",value)\n",
    "\n",
    "# Try a board where White is missing a rook\n",
    "board3 = [ board[0][:-1], board[1] ]\n",
    "value = mychess.lib.heuristics.evaluate(board3)\n",
    "print(\"If we eliminate one of white's rooks, the value is \",value)\n",
    "\n",
    "# Eliminate one piece from each player\n",
    "board4 = [ board[0][:-1], board[1][:-1] ]\n",
    "value = mychess.lib.heuristics.evaluate(board4)\n",
    "print(\"If the players are each missing a rook, the value is \",value)\n"
   ]
  },
  {
   "cell_type": "markdown",
   "metadata": {},
   "source": [
    "### II.B encode and decode\n",
    "\n",
    "Lists cannot be used as keys in a dict, therefore, in order to give your `moveTree` to the autograder, you will need some way to encode the moves.  `encoded=encode(*move)` converts a `move` into a string representing its standard chess encoding.  The **decode** function reverses the processing of `encode`.  For example:\n"
   ]
  },
  {
   "cell_type": "code",
   "execution_count": 57,
   "metadata": {},
   "outputs": [
    {
     "name": "stdout",
     "output_type": "stream",
     "text": [
      "The move [7,2]->[7,4] encodes as g7g5\n",
      "The move [5,7]->[5,8] with promotion to queen is encoded as e2e1q\n",
      "The move g7g5 is decoded to [[7, 2], [7, 4], None]\n"
     ]
    }
   ],
   "source": [
    "from mychess.lib.utils import encode, decode\n",
    "\n",
    "# This statement evaluates to True\n",
    "move1 = encode([7,2],[7,4],None)\n",
    "print(\"The move [7,2]->[7,4] encodes as\",move1)\n",
    "\n",
    "# This statement also evaluates to True\n",
    "move2=encode([5,7],[5,8],\"q\")\n",
    "print(\"The move [5,7]->[5,8] with promotion to queen is encoded as\",move2)\n",
    "\n",
    "# This statement evaluates to True\n",
    "move3 = decode(\"g7g5\")\n",
    "print(\"The move g7g5 is decoded to\",move3)"
   ]
  },
  {
   "cell_type": "markdown",
   "metadata": {},
   "source": [
    "### II.C generateMoves, convertMoves, makeMove\n",
    "\n",
    "The function **generateMoves** is a [generator](https://docs.python.org/3/glossary.html#term-generator) that generates all moves that are legal on the current board.  The function **convertMoves** generates a starting board.  The function **makeMove**  implements a move, and returns the resulting board (and side and flags).  For example, the following code prints all of the moves that white can legally make, starting from the beginning board:\n",
    "\n"
   ]
  },
  {
   "cell_type": "code",
   "execution_count": 58,
   "metadata": {},
   "outputs": [
    {
     "name": "stdout",
     "output_type": "stream",
     "text": [
      "This move is legal now: [[1, 7], [1, 5], None] ([True, True, True, True], [1, 6])\n",
      "This move is legal now: [[1, 7], [1, 6], None] ([True, True, True, True], None)\n",
      "This move is legal now: [[2, 7], [2, 5], None] ([True, True, True, True], [2, 6])\n",
      "This move is legal now: [[2, 7], [2, 6], None] ([True, True, True, True], None)\n",
      "This move is legal now: [[3, 7], [3, 5], None] ([True, True, True, True], [3, 6])\n",
      "This move is legal now: [[3, 7], [3, 6], None] ([True, True, True, True], None)\n",
      "This move is legal now: [[4, 7], [4, 5], None] ([True, True, True, True], [4, 6])\n",
      "This move is legal now: [[4, 7], [4, 6], None] ([True, True, True, True], None)\n",
      "This move is legal now: [[5, 7], [5, 5], None] ([True, True, True, True], [5, 6])\n",
      "This move is legal now: [[5, 7], [5, 6], None] ([True, True, True, True], None)\n",
      "This move is legal now: [[6, 7], [6, 5], None] ([True, True, True, True], [6, 6])\n",
      "This move is legal now: [[6, 7], [6, 6], None] ([True, True, True, True], None)\n",
      "This move is legal now: [[7, 7], [7, 5], None] ([True, True, True, True], [7, 6])\n",
      "This move is legal now: [[7, 7], [7, 6], None] ([True, True, True, True], None)\n",
      "This move is legal now: [[8, 7], [8, 5], None] ([True, True, True, True], [8, 6])\n",
      "This move is legal now: [[8, 7], [8, 6], None] ([True, True, True, True], None)\n",
      "This move is legal now: [[2, 8], [3, 6], None] ([True, True, True, True], None)\n",
      "This move is legal now: [[2, 8], [1, 6], None] ([True, True, True, True], None)\n",
      "This move is legal now: [[7, 8], [8, 6], None] ([True, True, True, True], None)\n",
      "This move is legal now: [[7, 8], [6, 6], None] ([True, True, True, True], None)\n"
     ]
    }
   ],
   "source": [
    "import submitted, importlib\n",
    "import mychess.lib\n",
    "\n",
    "# Create an initial board\n",
    "side, board, flags = mychess.lib.convertMoves(\"\")\n",
    "\n",
    "# Iterate over all moves that are legal from the current  board position.  \n",
    "for move in submitted.generateMoves(side,board,flags):\n",
    "    newside, newboard, newflags = mychess.lib.makeMove(side, board, move[0], move[1], flags, move[2])\n",
    "    print(\"This move is legal now:\",move, newflags)\n"
   ]
  },
  {
   "cell_type": "markdown",
   "metadata": {},
   "source": [
    "The **flags** and **newflags** variables specify whether or not it has become legal for black to make certain specialized types of moves.  For more information, see `chess/docs.txt`.\n",
    "\n"
   ]
  },
  {
   "cell_type": "markdown",
   "metadata": {},
   "source": [
    "### II.D random\n",
    "\n",
    "In order to help you understand the API, the file `submitted.py` contains a function from which you can copy any useful code.  The function `moveList, moveTree, value  = random(side, board, flags, chooser)` takes  the same input as the functions you  will write, and generates the same type of output, but instead of choosing a smart move, it chooses a move at random.\n",
    "\n",
    "Here, the input parameter `chooser` is set to `chooser=`<a href=\"https://docs.python.org/3/library/random.html#functions-for-sequences\">random.choice</a> during normal game play, but during grading, it will be set to some other function that selects a move in a non-random fashion.  Use this function as if it were equivalent to `random.choice`.\n"
   ]
  },
  {
   "cell_type": "code",
   "execution_count": 59,
   "metadata": {},
   "outputs": [
    {
     "name": "stdout",
     "output_type": "stream",
     "text": [
      "Help on function random in module submitted:\n",
      "\n",
      "random(side, board, flags, chooser)\n",
      "    Return a random move, resulting board, and value of the resulting board.\n",
      "    Return: (value, moveList, boardList)\n",
      "      value (int or float): value of the board after making the chosen move\n",
      "      moveList (list): list with one element, the chosen move\n",
      "      moveTree (dict: encode(*move)->dict): a tree of moves that were evaluated in the search process\n",
      "    Input:\n",
      "      side (boolean): True if player1 (Min) plays next, otherwise False\n",
      "      board (2-tuple of lists): current board layout, used by generateMoves and makeMove\n",
      "      flags (list of flags): list of flags, used by generateMoves and makeMove\n",
      "      chooser: a function similar to random.choice, but during autograding, might not be random.\n",
      "\n"
     ]
    }
   ],
   "source": [
    "import submitted, importlib\n",
    "importlib.reload(submitted)\n",
    "help(submitted.random)"
   ]
  },
  {
   "cell_type": "markdown",
   "metadata": {},
   "source": [
    "<a id='section3'></a>"
   ]
  },
  {
   "cell_type": "markdown",
   "metadata": {},
   "source": [
    "## III. Assignment "
   ]
  },
  {
   "cell_type": "markdown",
   "metadata": {},
   "source": [
    "For this assignment, you will need to write three functions: `minimax` and `alphabeta`.  The content of these functions is described in the sections that follow.\n"
   ]
  },
  {
   "cell_type": "markdown",
   "metadata": {},
   "source": [
    "### III.A minimax search\n",
    "\n",
    "For Part 1 of this assignment, you will implement minimax search. Specifically, you will implement a function `minimax(side, board, flags, depth)` in `search.py` with the following docstring:\n"
   ]
  },
  {
   "cell_type": "code",
   "execution_count": 60,
   "metadata": {},
   "outputs": [
    {
     "name": "stdout",
     "output_type": "stream",
     "text": [
      "Help on function minimax in module submitted:\n",
      "\n",
      "minimax(side, board, flags, depth)\n",
      "    Return a minimax-optimal move sequence, tree of all boards evaluated, and value of best path.\n",
      "    Return: (value, moveList, moveTree)\n",
      "      value (float): value of the final board in the minimax-optimal move sequence\n",
      "      moveList (list): the minimax-optimal move sequence, as a list of moves\n",
      "      moveTree (dict: encode(*move)->dict): a tree of moves that were evaluated in the search process\n",
      "    Input:\n",
      "      side (boolean): True if player1 (Min) plays next, otherwise False\n",
      "      board (2-tuple of lists): current board layout, used by generateMoves and makeMove\n",
      "      flags (list of flags): list of flags, used by generateMoves and makeMove\n",
      "      depth (int >=0): depth of the search (number of moves)\n",
      "\n"
     ]
    }
   ],
   "source": [
    "importlib.reload(submitted)\n",
    "help(submitted.minimax)"
   ]
  },
  {
   "cell_type": "markdown",
   "metadata": {},
   "source": [
    "As you  can see, the function accepts `side`, `board`, and `flags` variables, and a non-negative integer, `depth`.  It should perform minimax search over all possible move sequences of length `depth`, and return the complete tree of evaluated moves as `moveTree`.  If `side==True`, you should choose a path through this tree that minimizes the heuristic value of the final board, knowing that your opponent will be trying to maximize value; conversely if `side==False`.  Return the resulting optimal list of moves (including moves by both white and black) as `moveList`, and the numerical value of the final board as `value`.\n",
    "\n",
    "A note about `depth`: The `depth` parameter specifies the total number of moves, including moves by both white and black.  If `depth==1` and `side==False`, then you should just find one move, from the current board, that maximizes the value of the resulting board.  If `depth==2` and `side==False`, then you should find a white move, and the immediate following black move.  If `depth==3` and `side==False`, then you should find a white, black, white sequence of moves.  For example, see [wikipedia's page on minimax](https://en.wikipedia.org/wiki/Minimax#Minimax_algorithm_with_alternate_moves) for examples and pseudo-code.\n",
    "\n",
    "You are strongly encouraged to look at the grading examples in the `grading_examples` folder, to get a better understanding of what the `minimax` function outputs should look like.  For example, the board game in `more grading_examples/minimax_game0_depth2.json` contains `value` on the first line, `moveList` on the second line, and `moveTree` on the third line:\n"
   ]
  },
  {
   "cell_type": "code",
   "execution_count": 61,
   "metadata": {},
   "outputs": [
    {
     "name": "stdout",
     "output_type": "stream",
     "text": [
      "value is 10.0 \n",
      "\n",
      "moveList is [[[2, 1], [3, 3], None], [[4, 7], [4, 5], None]] \n",
      "\n",
      "moveTree is: {'a7a5': {'a2a4': {}, 'a2a3': {}, 'b2b4': {}, 'b2b3': {}, 'd2d4': {}, 'd2d3': {}, 'e2e4': {}, 'e2e3': {}, 'g2g4': {}, 'g2g3': {}, 'h2h4': {}, 'h2h3': {}, 'a1b1': {}, 'c3d5': {}, 'c3b1': {}, 'c3b5': {}, 'c3e4': {}, 'c3a4': {}, 'f3g1': {}, 'f3g5': {}, 'f3e5': {}, 'f3h4': {}, 'f3d4': {}, 'h1g1': {}}, 'a7a6': {'a2a4': {}, 'a2a3': {}, 'b2b4': {}, 'b2b3': {}, 'd2d4': {}, 'd2d3': {}, 'e2e4': {}, 'e2e3': {}, 'g2g4': {}, 'g2g3': {}, 'h2h4': {}, 'h2h3': {}, 'a1b1': {}, 'c3d5': {}, 'c3b1': {}, 'c3b5': {}, 'c3e4': {}, 'c3a4': {}, 'f3g1': {}, 'f3g5': {}, 'f3e5': {}, 'f3h4': {}, 'f3d4': {}, 'h1g1': {}}, 'b7b5': {'a2a4': {}, 'a2a3': {}, 'b2b4': {}, 'b2b3': {}, 'd2d4': {}, 'd2d3': {}, 'e2e4': {}, 'e2e3': {}, 'g2g4': {}, 'g2g3': {}, 'h2h4': {}, 'h2h3': {}, 'a1b1': {}, 'c3d5': {}, 'c3b1': {}, 'c3b5': {}, 'c3e4': {}, 'c3a4': {}, 'f3g1': {}, 'f3g5': {}, 'f3e5': {}, 'f3h4': {}, 'f3d4': {}, 'h1g1': {}}, 'b7b6': {'a2a4': {}, 'a2a3': {}, 'b2b4': {}, 'b2b3': {}, 'd2d4': {}, 'd2d3': {}, 'e2e4': {}, 'e2e3': {}, 'g2g4': {}, 'g2g3': {}, 'h2h4': {}, 'h2h3': {}, 'a1b1': {}, 'c3d5': {}, 'c3b1': {}, 'c3b5': {}, 'c3e4': {}, 'c3a4': {}, 'f3g1': {}, 'f3g5': {}, 'f3e5': {}, 'f3h4': {}, 'f3d4': {}, 'h1g1': {}}, 'c7c5': {'a2a4': {}, 'a2a3': {}, 'b2b4': {}, 'b2b3': {}, 'd2d4': {}, 'd2d3': {}, 'e2e4': {}, 'e2e3': {}, 'g2g4': {}, 'g2g3': {}, 'h2h4': {}, 'h2h3': {}, 'a1b1': {}, 'c3d5': {}, 'c3b1': {}, 'c3b5': {}, 'c3e4': {}, 'c3a4': {}, 'f3g1': {}, 'f3g5': {}, 'f3e5': {}, 'f3h4': {}, 'f3d4': {}, 'h1g1': {}}, 'c7c6': {'a2a4': {}, 'a2a3': {}, 'b2b4': {}, 'b2b3': {}, 'd2d4': {}, 'd2d3': {}, 'e2e4': {}, 'e2e3': {}, 'g2g4': {}, 'g2g3': {}, 'h2h4': {}, 'h2h3': {}, 'a1b1': {}, 'c3d5': {}, 'c3b1': {}, 'c3b5': {}, 'c3e4': {}, 'c3a4': {}, 'f3g1': {}, 'f3g5': {}, 'f3e5': {}, 'f3h4': {}, 'f3d4': {}, 'h1g1': {}}, 'd7d5': {'a2a4': {}, 'a2a3': {}, 'b2b4': {}, 'b2b3': {}, 'd2d4': {}, 'd2d3': {}, 'e2e4': {}, 'e2e3': {}, 'g2g4': {}, 'g2g3': {}, 'h2h4': {}, 'h2h3': {}, 'a1b1': {}, 'c3d5': {}, 'c3b1': {}, 'c3b5': {}, 'c3e4': {}, 'c3a4': {}, 'f3g1': {}, 'f3g5': {}, 'f3e5': {}, 'f3h4': {}, 'f3d4': {}, 'h1g1': {}}, 'd7d6': {'a2a4': {}, 'a2a3': {}, 'b2b4': {}, 'b2b3': {}, 'd2d4': {}, 'd2d3': {}, 'e2e4': {}, 'e2e3': {}, 'g2g4': {}, 'g2g3': {}, 'h2h4': {}, 'h2h3': {}, 'a1b1': {}, 'c3d5': {}, 'c3b1': {}, 'c3b5': {}, 'c3e4': {}, 'c3a4': {}, 'f3g1': {}, 'f3g5': {}, 'f3e5': {}, 'f3h4': {}, 'f3d4': {}, 'h1g1': {}}, 'e7e5': {'a2a4': {}, 'a2a3': {}, 'b2b4': {}, 'b2b3': {}, 'd2d4': {}, 'd2d3': {}, 'e2e4': {}, 'e2e3': {}, 'g2g4': {}, 'g2g3': {}, 'h2h4': {}, 'h2h3': {}, 'a1b1': {}, 'c3d5': {}, 'c3b1': {}, 'c3b5': {}, 'c3e4': {}, 'c3a4': {}, 'f3g1': {}, 'f3g5': {}, 'f3e5': {}, 'f3h4': {}, 'f3d4': {}, 'h1g1': {}}, 'e7e6': {'a2a4': {}, 'a2a3': {}, 'b2b4': {}, 'b2b3': {}, 'd2d4': {}, 'd2d3': {}, 'e2e4': {}, 'e2e3': {}, 'g2g4': {}, 'g2g3': {}, 'h2h4': {}, 'h2h3': {}, 'a1b1': {}, 'c3d5': {}, 'c3b1': {}, 'c3b5': {}, 'c3e4': {}, 'c3a4': {}, 'f3g1': {}, 'f3g5': {}, 'f3e5': {}, 'f3h4': {}, 'f3d4': {}, 'h1g1': {}}, 'f7f5': {'a2a4': {}, 'a2a3': {}, 'b2b4': {}, 'b2b3': {}, 'd2d4': {}, 'd2d3': {}, 'e2e4': {}, 'e2e3': {}, 'g2g4': {}, 'g2g3': {}, 'h2h4': {}, 'h2h3': {}, 'a1b1': {}, 'c3d5': {}, 'c3b1': {}, 'c3b5': {}, 'c3e4': {}, 'c3a4': {}, 'f3g1': {}, 'f3g5': {}, 'f3e5': {}, 'f3h4': {}, 'f3d4': {}, 'h1g1': {}}, 'f7f6': {'a2a4': {}, 'a2a3': {}, 'b2b4': {}, 'b2b3': {}, 'd2d4': {}, 'd2d3': {}, 'e2e4': {}, 'e2e3': {}, 'g2g4': {}, 'g2g3': {}, 'h2h4': {}, 'h2h3': {}, 'a1b1': {}, 'c3d5': {}, 'c3b1': {}, 'c3b5': {}, 'c3e4': {}, 'c3a4': {}, 'f3g1': {}, 'f3g5': {}, 'f3e5': {}, 'f3h4': {}, 'f3d4': {}, 'h1g1': {}}, 'g5g4': {'a2a4': {}, 'a2a3': {}, 'b2b4': {}, 'b2b3': {}, 'd2d4': {}, 'd2d3': {}, 'e2e4': {}, 'e2e3': {}, 'g2g3': {}, 'h2h4': {}, 'h2h3': {}, 'a1b1': {}, 'c3d5': {}, 'c3b1': {}, 'c3b5': {}, 'c3e4': {}, 'c3a4': {}, 'f3g1': {}, 'f3g5': {}, 'f3e5': {}, 'f3h4': {}, 'f3d4': {}, 'h1g1': {}}, 'h7h5': {'a2a4': {}, 'a2a3': {}, 'b2b4': {}, 'b2b3': {}, 'd2d4': {}, 'd2d3': {}, 'e2e4': {}, 'e2e3': {}, 'g2g4': {}, 'g2g3': {}, 'h2h4': {}, 'h2h3': {}, 'a1b1': {}, 'c3d5': {}, 'c3b1': {}, 'c3b5': {}, 'c3e4': {}, 'c3a4': {}, 'f3g1': {}, 'f3g5': {}, 'f3e5': {}, 'f3h4': {}, 'f3d4': {}, 'h1g1': {}}, 'h7h6': {'a2a4': {}, 'a2a3': {}, 'b2b4': {}, 'b2b3': {}, 'd2d4': {}, 'd2d3': {}, 'e2e4': {}, 'e2e3': {}, 'g2g4': {}, 'g2g3': {}, 'h2h4': {}, 'h2h3': {}, 'a1b1': {}, 'c3d5': {}, 'c3b1': {}, 'c3b5': {}, 'c3e4': {}, 'c3a4': {}, 'f3g1': {}, 'f3g5': {}, 'f3e5': {}, 'f3h4': {}, 'f3d4': {}, 'h1g1': {}}, 'b8c6': {'a2a4': {}, 'a2a3': {}, 'b2b4': {}, 'b2b3': {}, 'd2d4': {}, 'd2d3': {}, 'e2e4': {}, 'e2e3': {}, 'g2g4': {}, 'g2g3': {}, 'h2h4': {}, 'h2h3': {}, 'a1b1': {}, 'c3d5': {}, 'c3b1': {}, 'c3b5': {}, 'c3e4': {}, 'c3a4': {}, 'f3g1': {}, 'f3g5': {}, 'f3e5': {}, 'f3h4': {}, 'f3d4': {}, 'h1g1': {}}, 'b8a6': {'a2a4': {}, 'a2a3': {}, 'b2b4': {}, 'b2b3': {}, 'd2d4': {}, 'd2d3': {}, 'e2e4': {}, 'e2e3': {}, 'g2g4': {}, 'g2g3': {}, 'h2h4': {}, 'h2h3': {}, 'a1b1': {}, 'c3d5': {}, 'c3b1': {}, 'c3b5': {}, 'c3e4': {}, 'c3a4': {}, 'f3g1': {}, 'f3g5': {}, 'f3e5': {}, 'f3h4': {}, 'f3d4': {}, 'h1g1': {}}, 'f8g7': {'a2a4': {}, 'a2a3': {}, 'b2b4': {}, 'b2b3': {}, 'd2d4': {}, 'd2d3': {}, 'e2e4': {}, 'e2e3': {}, 'g2g4': {}, 'g2g3': {}, 'h2h4': {}, 'h2h3': {}, 'a1b1': {}, 'c3d5': {}, 'c3b1': {}, 'c3b5': {}, 'c3e4': {}, 'c3a4': {}, 'f3g1': {}, 'f3g5': {}, 'f3e5': {}, 'f3h4': {}, 'f3d4': {}, 'h1g1': {}}, 'f8h6': {'a2a4': {}, 'a2a3': {}, 'b2b4': {}, 'b2b3': {}, 'd2d4': {}, 'd2d3': {}, 'e2e4': {}, 'e2e3': {}, 'g2g4': {}, 'g2g3': {}, 'h2h4': {}, 'h2h3': {}, 'a1b1': {}, 'c3d5': {}, 'c3b1': {}, 'c3b5': {}, 'c3e4': {}, 'c3a4': {}, 'f3g1': {}, 'f3g5': {}, 'f3e5': {}, 'f3h4': {}, 'f3d4': {}, 'h1g1': {}}, 'g8h6': {'a2a4': {}, 'a2a3': {}, 'b2b4': {}, 'b2b3': {}, 'd2d4': {}, 'd2d3': {}, 'e2e4': {}, 'e2e3': {}, 'g2g4': {}, 'g2g3': {}, 'h2h4': {}, 'h2h3': {}, 'a1b1': {}, 'c3d5': {}, 'c3b1': {}, 'c3b5': {}, 'c3e4': {}, 'c3a4': {}, 'f3g1': {}, 'f3g5': {}, 'f3e5': {}, 'f3h4': {}, 'f3d4': {}, 'h1g1': {}}, 'g8f6': {'a2a4': {}, 'a2a3': {}, 'b2b4': {}, 'b2b3': {}, 'd2d4': {}, 'd2d3': {}, 'e2e4': {}, 'e2e3': {}, 'g2g4': {}, 'g2g3': {}, 'h2h4': {}, 'h2h3': {}, 'a1b1': {}, 'c3d5': {}, 'c3b1': {}, 'c3b5': {}, 'c3e4': {}, 'c3a4': {}, 'f3g1': {}, 'f3g5': {}, 'f3e5': {}, 'f3h4': {}, 'f3d4': {}, 'h1g1': {}}} \n",
      "\n"
     ]
    }
   ],
   "source": [
    "import json, pprint\n",
    "with open(\"grading_examples/minimax_game0_depth2.json\",\"r\") as f:\n",
    "    value=json.loads(f.readline())\n",
    "    print(\"value is\",value,\"\\n\")\n",
    "    moveList=json.loads(f.readline())\n",
    "    print(\"moveList is\",moveList,\"\\n\")\n",
    "    moveTree=json.loads(f.readline())\n",
    "    print(\"moveTree is:\",moveTree,\"\\n\")\n"
   ]
  },
  {
   "cell_type": "markdown",
   "metadata": {},
   "source": [
    "You will certainly want to implement `minimax` as a recursive function.  You will certainly want to use the function `generateMoves` to generate all moves that are legal in the current game state, and you will certainly want to use `makeMove` to find the newside, newboard, and newflags that result from making each move.  When you  get to `depth==0`, you will certainly want to use `evaluate(board)` in order to compute the heuristic value of the resulting board.\n",
    "\n",
    "Once  you  have implemented minimax, you can test it by playing against it.  If you have pygame installed, the following line should pop up a board on which you can play against your own minimax player.  If you have not yet written `minimax`, the game will throw a `NotImplementedError` when it is white's turn to move.\n"
   ]
  },
  {
   "cell_type": "code",
   "execution_count": 62,
   "metadata": {},
   "outputs": [
    {
     "name": "stdout",
     "output_type": "stream",
     "text": [
      "pygame 2.1.3 (SDL 2.0.22, Python 3.9.13)\n",
      "Hello from the pygame community. https://www.pygame.org/contribute.html\n"
     ]
    }
   ],
   "source": [
    "!python3 main.py --player1 minimax"
   ]
  },
  {
   "cell_type": "markdown",
   "metadata": {},
   "source": [
    "Test that it is working correctly by moving one of your knights forward.  The computer should respond by moving one of its knights foward, as shown here:\n",
    "\n",
    "<p align=\"center\">\n",
    "    <img width=\"400\" src=\"images/assignment5_figure1.png\"/> \n",
    "</p>\n",
    "\n",
    "If you want to watch a minimax agent win against a random-move agent, you can type\n"
   ]
  },
  {
   "cell_type": "code",
   "execution_count": 63,
   "metadata": {},
   "outputs": [
    {
     "name": "stdout",
     "output_type": "stream",
     "text": [
      "pygame 2.1.3 (SDL 2.0.22, Python 3.9.13)\n",
      "Hello from the pygame community. https://www.pygame.org/contribute.html\n"
     ]
    }
   ],
   "source": [
    "!python3 main.py --player0 minimax --player1 random\n"
   ]
  },
  {
   "cell_type": "markdown",
   "metadata": {},
   "source": [
    "### III.B alphabeta search\n",
    "\n",
    "For Part 2 of this assignment, you will implement alphabeta search. Specifically, you will implement a function `alphabeta(side, board, flags, depth)` in `search.py` with the following docstring:\n",
    "\n"
   ]
  },
  {
   "cell_type": "code",
   "execution_count": 64,
   "metadata": {},
   "outputs": [
    {
     "name": "stdout",
     "output_type": "stream",
     "text": [
      "Help on function alphabeta in module submitted:\n",
      "\n",
      "alphabeta(side, board, flags, depth, alpha=-inf, beta=inf)\n",
      "    Return minimax-optimal move sequence, and a tree that exhibits alphabeta pruning.\n",
      "    Return: (value, moveList, moveTree)\n",
      "      value (float): value of the final board in the minimax-optimal move sequence\n",
      "      moveList (list): the minimax-optimal move sequence, as a list of moves\n",
      "      moveTree (dict: encode(*move)->dict): a tree of moves that were evaluated in the search process\n",
      "    Input:\n",
      "      side (boolean): True if player1 (Min) plays next, otherwise False\n",
      "      board (2-tuple of lists): current board layout, used by generateMoves and makeMove\n",
      "      flags (list of flags): list of flags, used by generateMoves and makeMove\n",
      "      depth (int >=0): depth of the search (number of moves)\n",
      "\n"
     ]
    }
   ],
   "source": [
    "import submitted\n",
    "help(submitted.alphabeta)"
   ]
  },
  {
   "cell_type": "markdown",
   "metadata": {},
   "source": [
    "For any given input board, this function should return exactly the same value and moveList as `minimax`; the only difference between the two functions will be the returned `moveTree`.  The tree returned by `alphabeta` should have fewer leaf nodes than the one returned by `minimax`, because alphabeta pruning should make it unnecessary to evaluate some of the leaf nodes.\n",
    "\n",
    "You can test this using:\n"
   ]
  },
  {
   "cell_type": "code",
   "execution_count": 65,
   "metadata": {},
   "outputs": [
    {
     "name": "stdout",
     "output_type": "stream",
     "text": [
      "pygame 2.1.3 (SDL 2.0.22, Python 3.9.13)\n",
      "Hello from the pygame community. https://www.pygame.org/contribute.html\n"
     ]
    }
   ],
   "source": [
    "!python3 main.py --player0 random --player1 alphabeta\n"
   ]
  },
  {
   "cell_type": "markdown",
   "metadata": {},
   "source": [
    "Now let us train a model using neural networks to create an artificially intelligent bot that plays at the grandmaster level."
   ]
  },
  {
   "cell_type": "code",
   "execution_count": 80,
   "metadata": {},
   "outputs": [
    {
     "ename": "ModuleNotFoundError",
     "evalue": "No module named 'chess.pgn'",
     "output_type": "error",
     "traceback": [
      "\u001b[1;31m---------------------------------------------------------------------------\u001b[0m",
      "\u001b[1;31mModuleNotFoundError\u001b[0m                       Traceback (most recent call last)",
      "Cell \u001b[1;32mIn[80], line 2\u001b[0m\n\u001b[0;32m      1\u001b[0m \u001b[39mimport\u001b[39;00m \u001b[39mchess\u001b[39;00m\n\u001b[1;32m----> 2\u001b[0m \u001b[39mimport\u001b[39;00m \u001b[39mchess\u001b[39;00m\u001b[39m.\u001b[39;00m\u001b[39mpgn\u001b[39;00m\n\u001b[0;32m      3\u001b[0m \u001b[39mimport\u001b[39;00m \u001b[39mneural_network_chess\u001b[39;00m\u001b[39m,\u001b[39m \u001b[39mimportlib\u001b[39;00m\n\u001b[0;32m      4\u001b[0m \u001b[39mimport\u001b[39;00m \u001b[39mmychess\u001b[39;00m\u001b[39m.\u001b[39;00m\u001b[39mlib\u001b[39;00m\n",
      "\u001b[1;31mModuleNotFoundError\u001b[0m: No module named 'chess.pgn'"
     ]
    }
   ],
   "source": [
    "import neural_network_chess, importlib\n",
    "import mychess.lib\n",
    "\n",
    "importlib.reload(neural_network_chess)"
   ]
  }
 ],
 "metadata": {
  "kernelspec": {
   "display_name": "Python 3 (ipykernel)",
   "language": "python",
   "name": "python3"
  },
  "language_info": {
   "codemirror_mode": {
    "name": "ipython",
    "version": 3
   },
   "file_extension": ".py",
   "mimetype": "text/x-python",
   "name": "python",
   "nbconvert_exporter": "python",
   "pygments_lexer": "ipython3",
   "version": "3.9.13"
  },
  "vscode": {
   "interpreter": {
    "hash": "ad2bdc8ecc057115af97d19610ffacc2b4e99fae6737bb82f5d7fb13d2f2c186"
   }
  }
 },
 "nbformat": 4,
 "nbformat_minor": 4
}
